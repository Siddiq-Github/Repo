{
 "cells": [
  {
   "cell_type": "code",
   "execution_count": 2,
   "metadata": {},
   "outputs": [],
   "source": [
    "import numpy as np"
   ]
  },
  {
   "cell_type": "code",
   "execution_count": null,
   "metadata": {},
   "outputs": [],
   "source": [
    "#1. Create a 5X2 integer array from a range between 100 to 200 such that the difference between each element is 10\n",
    "\n",
    "arr = np.arange(100, 200, 10)\n",
    "\n",
    "arr = arr.reshape(5,2)\n",
    "print (arr)"
   ]
  },
  {
   "cell_type": "code",
   "execution_count": null,
   "metadata": {},
   "outputs": [],
   "source": [
    "#2. Write a NumPy program to create a 3x3x3 array filled with arbitrary values and find the minimum and maximum values.\n",
    "arr2 = np.random.randint(0,50, size = (3,3))\n",
    "print(\"3*3*3 array\\n\",arr2)\n",
    "print(\"The minimum value is\",np.min(arr2))\n",
    "print(\"The maximum value is\",np.max(arr2))"
   ]
  },
  {
   "cell_type": "code",
   "execution_count": 3,
   "metadata": {},
   "outputs": [
    {
     "name": "stdout",
     "output_type": "stream",
     "text": [
      "5x5 zero matrix with elements on the main diagonal equal to 1, 2, 3, 4, 5\n",
      " [[1 0 0 0 0]\n",
      " [0 2 0 0 0]\n",
      " [0 0 3 0 0]\n",
      " [0 0 0 4 0]\n",
      " [0 0 0 0 5]]\n"
     ]
    }
   ],
   "source": [
    "#3. Write a NumPy program to create a 5x5 zero matrix with elements on the main diagonal equal to 1, 2, 3, 4, 5.\n",
    "arr3=np.diag([1,2,3,4,5])\n",
    "print(\"5x5 zero matrix with elements on the main diagonal equal to 1, 2, 3, 4, 5\\n\",arr3)"
   ]
  },
  {
   "cell_type": "code",
   "execution_count": 4,
   "metadata": {},
   "outputs": [
    {
     "name": "stdout",
     "output_type": "stream",
     "text": [
      "The Odd numbers are\n",
      "1\n",
      "3\n",
      "5\n",
      "7\n",
      "9\n",
      "Replacing all odd number with -1 [ 0 -1  2 -1  4 -1  6 -1  8 -1]\n"
     ]
    }
   ],
   "source": [
    "#4. Given an array arr = np.array([0, 1, 2, 3, 4, 5, 6, 7, 8, 9 \n",
    "#i) Extract all odd numbers from arr \n",
    "#ii) Replace all odd numbers in arr with -1\n",
    "arr4 = np.array([0, 1, 2, 3, 4, 5, 6, 7, 8, 9])\n",
    "print(\"The Odd numbers are\")\n",
    "for i in arr4:\n",
    "    if i%2!=0:\n",
    "        print(i)\n",
    "        arr4[i]=-1\n",
    "print(\"Replacing all odd number with -1\",arr4)"
   ]
  },
  {
   "cell_type": "code",
   "execution_count": 5,
   "metadata": {},
   "outputs": [
    {
     "name": "stdout",
     "output_type": "stream",
     "text": [
      "3x3 identity matrix\n",
      " [[1 0 0]\n",
      " [0 1 0]\n",
      " [0 0 1]]\n"
     ]
    }
   ],
   "source": [
    "#5.Write a NumPy program to create a 3x3 identity matrix, i.e. diagonal elements are 1,the rest are 0.\n",
    "arr5=np.identity(3,dtype=int)\n",
    "print(\"3x3 identity matrix\\n\",arr5)"
   ]
  },
  {
   "cell_type": "code",
   "execution_count": 6,
   "metadata": {},
   "outputs": [
    {
     "name": "stdout",
     "output_type": "stream",
     "text": [
      "Before Converting to float\n",
      " [1, 2, 3, 4, 5]\n",
      "After Converting to float\n",
      " [1. 2. 3. 4. 5.]\n"
     ]
    }
   ],
   "source": [
    "#6. Write a NumPy program to convert an array to a float type.\n",
    "arr6=([1,2,3,4,5])\n",
    "print(\"Before Converting to float\\n\",arr6)\n",
    "arr6_float=np.asfarray(arr6)\n",
    "print(\"After Converting to float\\n\",arr6_float)"
   ]
  },
  {
   "cell_type": "code",
   "execution_count": 7,
   "metadata": {},
   "outputs": [
    {
     "name": "stdout",
     "output_type": "stream",
     "text": [
      "five random numbers from the normal distribution\n",
      " [-0.66227441 -1.31604222  0.03825635 -1.654635    0.38662781]\n"
     ]
    }
   ],
   "source": [
    "#7. Write a NumPy program to generate five random numbers from the normal distribution.\n",
    "arr_normal=np.random.normal(size=5)\n",
    "print(\"five random numbers from the normal distribution\\n\",arr_normal)"
   ]
  },
  {
   "cell_type": "code",
   "execution_count": null,
   "metadata": {},
   "outputs": [],
   "source": [
    "#8. Following is the input NumPy array delete column two and insert following new column in its place.\n",
    "#sampleArray=numpy.array([[34,43,73],[82,22,12],[53,94,66]])\n",
    "#newColumn = numpy.array([[10,10,10]])\n",
    "samplearray=np.array([[34,43,73],[82,22,12],[53,94,66]])\n",
    "newcolumn = np.array([[10,10,10]])\n",
    "print(\"Before Removing column 2\\n\",samplearray)\n",
    "samplearray[:,2]=newcolumn\n",
    "print(\"After Removing column 2 and inserting new column in its place\\n\",samplearray)"
   ]
  },
  {
   "cell_type": "code",
   "execution_count": 8,
   "metadata": {},
   "outputs": [
    {
     "name": "stdout",
     "output_type": "stream",
     "text": [
      "After Multiplication\n",
      " [[ 2  8]\n",
      " [18 32]]\n"
     ]
    }
   ],
   "source": [
    "#9. Write a NumPy program to compute the multiplication of two given matrices.\n",
    "arr_mult1=([1,2],[3,4])\n",
    "arr_mult2=([2,4],[6,8])\n",
    "arr_mult3=np.multiply(arr_mult1,arr_mult2)\n",
    "print(\"After Multiplication\\n\",arr_mult3)"
   ]
  },
  {
   "cell_type": "code",
   "execution_count": 9,
   "metadata": {},
   "outputs": [
    {
     "name": "stdout",
     "output_type": "stream",
     "text": [
      "Before Sorting\n",
      " [0.02971103 0.81735895 0.37908022 0.93414062 0.16321446 0.79715619\n",
      " 0.46796198 0.76801017 0.8315835  0.67069738]\n",
      "After sorting\n",
      " [0.02971103 0.16321446 0.37908022 0.46796198 0.67069738 0.76801017\n",
      " 0.79715619 0.81735895 0.8315835  0.93414062]\n"
     ]
    }
   ],
   "source": [
    "#10. Write a NumPy program to create a random vector of size 10 and sort it.\n",
    "arr_ran=np.random.random(10)\n",
    "print(\"Before Sorting\\n\",arr_ran)\n",
    "arr_ran_sort=np.sort(arr_ran)\n",
    "print(\"After sorting\\n\",arr_ran_sort)"
   ]
  },
  {
   "cell_type": "code",
   "execution_count": null,
   "metadata": {},
   "outputs": [],
   "source": [
    "#11. Write a NumPy program to compute the covariance matrix of two arrays.\n",
    "arr_cov1=np.random.random(10)\n",
    "arr_cov2=np.random.random(10)\n",
    "print(\"1st array\\n\",arr_cov1)\n",
    "print(\"2nd array\\n\",arr_cov2)\n",
    "arr_cov=np.cov(arr_cov1,arr_cov2)\n",
    "print(\"Covariance Matrix\\n\",arr_cov)"
   ]
  },
  {
   "cell_type": "code",
   "execution_count": 10,
   "metadata": {},
   "outputs": [
    {
     "name": "stdout",
     "output_type": "stream",
     "text": [
      "4X2 array [[0.000e+000 0.000e+000]\n",
      " [0.000e+000 0.000e+000]\n",
      " [0.000e+000 6.245e-321]\n",
      " [0.000e+000 0.000e+000]]\n",
      "Shape of Array (4, 2)\n",
      "Dimension of Array 2\n",
      "The Length of each element of the array in bytes 8\n"
     ]
    }
   ],
   "source": [
    "#12.Create a 4X2 integer array and Prints its\n",
    "#i)The shape of an array.\n",
    "#ii) Array dimensions.\n",
    "#iii) The Length of each element of the array in bytes\n",
    "array4X2 = np.empty([4,2])\n",
    "print(\"4X2 array\",array4X2)\n",
    "print(\"Shape of Array\",np.shape(array4X2))\n",
    "print(\"Dimension of Array\",np.ndim(array4X2))\n",
    "print(\"The Length of each element of the array in bytes\",array4X2.itemsize)\n",
    "                       "
   ]
  },
  {
   "cell_type": "code",
   "execution_count": 11,
   "metadata": {},
   "outputs": [
    {
     "name": "stdout",
     "output_type": "stream",
     "text": [
      "Before concatenate\n",
      " ['Siddharth' 'Siddhu'] \n",
      " ['Sidd' 'Sid']\n",
      "After concatenate element-wise\n",
      " ['SiddharthSidd' 'SiddhuSid']\n"
     ]
    }
   ],
   "source": [
    "#13. Write a NumPy program to concatenate element-wise two arrays of string.\n",
    "arr_str1=np.array(['Siddharth','Siddhu'])\n",
    "arr_str2=np.array(['Sidd','Sid'])\n",
    "print(\"Before concatenate\\n\",arr_str1,\"\\n\",arr_str2)\n",
    "arr_str3=np.char.add(arr_str1,arr_str2)\n",
    "print(\"After concatenate element-wise\\n\",arr_str3)"
   ]
  },
  {
   "cell_type": "code",
   "execution_count": null,
   "metadata": {},
   "outputs": [],
   "source": [
    "#14. Write a NumPy program to capitalize the first letter, lowercase, uppercase, swapcase, title-case of all the \n",
    "#elements of a given array.\n",
    "arr_strp=np.array(['siddharth','Siddhu','sidd','Sid'])\n",
    "print(\"original array\\n\",arr_strp)\n",
    "print(\"Capitalize the first letter\\n\",np.char.capitalize(arr_strp))\n",
    "print(\"Lowercase\\n\",np.char.lower(arr_strp))\n",
    "print(\"Uppercase\\n\",np.char.upper(arr_strp))\n",
    "print(\"Swapcase\\n\",np.char.swapcase(arr_strp))\n",
    "print(\"Title Case\\n\",np.char.title(arr_strp))\n"
   ]
  },
  {
   "cell_type": "code",
   "execution_count": 12,
   "metadata": {},
   "outputs": [
    {
     "ename": "NameError",
     "evalue": "name 'arr_strp' is not defined",
     "output_type": "error",
     "traceback": [
      "\u001b[1;31m---------------------------------------------------------------------------\u001b[0m",
      "\u001b[1;31mNameError\u001b[0m                                 Traceback (most recent call last)",
      "\u001b[1;32m<ipython-input-12-f60d744b43ea>\u001b[0m in \u001b[0;36m<module>\u001b[1;34m\u001b[0m\n\u001b[0;32m      1\u001b[0m \u001b[1;31m#15. Write a NumPy program to convert a given array into a list.\u001b[0m\u001b[1;33m\u001b[0m\u001b[1;33m\u001b[0m\u001b[1;33m\u001b[0m\u001b[0m\n\u001b[1;32m----> 2\u001b[1;33m \u001b[0mprint\u001b[0m\u001b[1;33m(\u001b[0m\u001b[1;34m\"Array before converting to list\\n\"\u001b[0m\u001b[1;33m,\u001b[0m\u001b[0marr_strp\u001b[0m\u001b[1;33m)\u001b[0m\u001b[1;33m\u001b[0m\u001b[1;33m\u001b[0m\u001b[0m\n\u001b[0m\u001b[0;32m      3\u001b[0m \u001b[0mlist_arr_strp\u001b[0m\u001b[1;33m=\u001b[0m\u001b[0mlist\u001b[0m\u001b[1;33m(\u001b[0m\u001b[0marr_strp\u001b[0m\u001b[1;33m)\u001b[0m\u001b[1;33m\u001b[0m\u001b[1;33m\u001b[0m\u001b[0m\n\u001b[0;32m      4\u001b[0m \u001b[0mprint\u001b[0m\u001b[1;33m(\u001b[0m\u001b[1;34m\"After converting to list\\n\"\u001b[0m\u001b[1;33m,\u001b[0m\u001b[0mlist_arr_strp\u001b[0m\u001b[1;33m)\u001b[0m\u001b[1;33m\u001b[0m\u001b[1;33m\u001b[0m\u001b[0m\n\u001b[0;32m      5\u001b[0m \u001b[0mprint\u001b[0m\u001b[1;33m(\u001b[0m\u001b[0mtype\u001b[0m\u001b[1;33m(\u001b[0m\u001b[0mlist_arr_strp\u001b[0m\u001b[1;33m)\u001b[0m\u001b[1;33m)\u001b[0m\u001b[1;33m\u001b[0m\u001b[1;33m\u001b[0m\u001b[0m\n",
      "\u001b[1;31mNameError\u001b[0m: name 'arr_strp' is not defined"
     ]
    }
   ],
   "source": [
    "#15. Write a NumPy program to convert a given array into a list.\n",
    "print(\"Array before converting to list\\n\",arr_strp)\n",
    "list_arr_strp=list(arr_strp)\n",
    "print(\"After converting to list\\n\",list_arr_strp)\n",
    "print(type(list_arr_strp))\n"
   ]
  },
  {
   "cell_type": "code",
   "execution_count": null,
   "metadata": {},
   "outputs": [],
   "source": [
    "#16. Write a NumPy program to compute the sum of all elements, sum of each column and sum of each row of a given array.\n",
    "print(\"Array\\n\",arr2)\n",
    "print(\"sum of all elements\",np.sum(arr2))\n",
    "print(\"Sum of 1st column\",np.sum(arr2[:,0]))\n",
    "print(\"Sum of 2nd column\",np.sum(arr2[:,1]))\n",
    "print(\"Sum of 3rd column\",np.sum(arr2[:,2]))\n",
    "print(\"Sum of 1st row\",np.sum(arr2[0,:]))\n",
    "print(\"Sum of 2nd row\",np.sum(arr2[1,:]))\n",
    "print(\"Sum of 3rd row\",np.sum(arr2[2,:]))"
   ]
  },
  {
   "cell_type": "code",
   "execution_count": null,
   "metadata": {},
   "outputs": [],
   "source": [
    "#17. Write a NumPy program to create a random 10x4 array and extract the first five rows of the array and store \n",
    "#them into a variable.\n",
    "arr10X4=np.random.rand(10,4)\n",
    "print(\"10X4 array\\n\",arr10X4)\n",
    "storeval=arr10X4[:5]\n",
    "print(\"extract the first five rows of the array and store them into a variable\\n\",storeval)"
   ]
  },
  {
   "cell_type": "code",
   "execution_count": null,
   "metadata": {},
   "outputs": [],
   "source": [
    "#18. Write a NumPy program to get the unique elements of a 1D and 2D array.\n",
    "arr1d=np.array([1,2,3,4,6,5,4,3,1])\n",
    "print(\"Original 1D Array\\n\",arr1d)\n",
    "print(\"Unique Elements in 1D Array\\n\",np.unique(arr1d))\n",
    "arr2d=np.array([[1,2],[2,3],[3,4],[5,6]])\n",
    "print(\"Original 2D Array\\n\",arr2d)\n",
    "print(\"Unique Elements in 2D Array\\n\",np.unique(arr2d))"
   ]
  },
  {
   "cell_type": "code",
   "execution_count": null,
   "metadata": {},
   "outputs": [],
   "source": [
    "#19. Write a NumPy program to get the unique elements of an array.\n",
    "#arr= [ -10 12.12 -0.2]\n",
    "arr1 = np.array([-10, 12,.12,-0.2,12,-10])\n",
    "print(arr1)\n",
    "np.unique(arr1)"
   ]
  },
  {
   "cell_type": "code",
   "execution_count": null,
   "metadata": {},
   "outputs": [],
   "source": [
    "#20. Write a NumPy program to save a given array to a text file and load it. You have to save and load files using numpy library\n",
    "arr_txt=np.arange(9).reshape(3, 3)\n",
    "print(\"Before Loading into Text File\\n\",arr_txt)\n",
    "np.savetxt(\"text.txt\",arr_txt)\n",
    "arr_ret=np.loadtxt(\"text.txt\")\n",
    "print(\"After Pulling from Text File\\n\",arr_ret)"
   ]
  },
  {
   "cell_type": "code",
   "execution_count": null,
   "metadata": {},
   "outputs": [],
   "source": []
  }
 ],
 "metadata": {
  "kernelspec": {
   "display_name": "Python 3",
   "language": "python",
   "name": "python3"
  },
  "language_info": {
   "codemirror_mode": {
    "name": "ipython",
    "version": 3
   },
   "file_extension": ".py",
   "mimetype": "text/x-python",
   "name": "python",
   "nbconvert_exporter": "python",
   "pygments_lexer": "ipython3",
   "version": "3.8.3"
  }
 },
 "nbformat": 4,
 "nbformat_minor": 4
}
